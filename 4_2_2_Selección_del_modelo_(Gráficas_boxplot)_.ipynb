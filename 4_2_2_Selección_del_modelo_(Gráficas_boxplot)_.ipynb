{
  "cells": [
    {
      "cell_type": "markdown",
      "metadata": {
        "id": "view-in-github",
        "colab_type": "text"
      },
      "source": [
        "<a href=\"https://colab.research.google.com/github/martda08/Tesis-GPJM/blob/main/4_2_2_Selecci%C3%B3n_del_modelo_(Gr%C3%A1ficas_boxplot)_.ipynb\" target=\"_parent\"><img src=\"https://colab.research.google.com/assets/colab-badge.svg\" alt=\"Open In Colab\"/></a>"
      ]
    },
    {
      "cell_type": "markdown",
      "metadata": {
        "id": "54h-9O1Uxu0A"
      },
      "source": [
        "#Subsección 4.2.3- Selección del modelo-Modelo Conjunto basado en Campos Gaussianos.\n",
        "\n",
        "*Fecha de última modificación*: 10-oct-22.\n",
        "\n",
        "*Tesis*: Modelación de la relación entre el cerebro y el comportamiento mediante campos Gaussianos.\n",
        "\n",
        "*Autor*: Giwon Bahg\n",
        "\n",
        "*Modificado por*: Daniela Martínez Aguirre\n",
        "\n",
        "*Descripción*: Código extraido y modificado del repositorio: https://github.com/MbCN-lab/gpjm y https://github.com/rodrigo-carnier/gpjm.\n",
        "\n",
        "*Figuras*: 4.4 a 4.7."
      ]
    },
    {
      "cell_type": "code",
      "execution_count": null,
      "metadata": {
        "colab": {
          "base_uri": "https://localhost:8080/"
        },
        "id": "EW4P6Hvxxu0G",
        "outputId": "e5b17cf3-461d-4903-a2c1-c91d90bf38f0"
      },
      "outputs": [
        {
          "output_type": "stream",
          "name": "stdout",
          "text": [
            "Looking in indexes: https://pypi.org/simple, https://us-python.pkg.dev/colab-wheels/public/simple/\n",
            "Collecting gpflow==2.5.2\n",
            "  Downloading gpflow-2.5.2-py3-none-any.whl (383 kB)\n",
            "\u001b[K     |████████████████████████████████| 383 kB 32.3 MB/s \n",
            "\u001b[?25hRequirement already satisfied: packaging in /usr/local/lib/python3.7/dist-packages (from gpflow==2.5.2) (21.3)\n",
            "Requirement already satisfied: tensorflow-probability>=0.12.0 in /usr/local/lib/python3.7/dist-packages (from gpflow==2.5.2) (0.16.0)\n",
            "Requirement already satisfied: multipledispatch>=0.6 in /usr/local/lib/python3.7/dist-packages (from gpflow==2.5.2) (0.6.0)\n",
            "Requirement already satisfied: tensorflow>=2.4.0 in /usr/local/lib/python3.7/dist-packages (from gpflow==2.5.2) (2.8.2+zzzcolab20220719082949)\n",
            "Requirement already satisfied: scipy in /usr/local/lib/python3.7/dist-packages (from gpflow==2.5.2) (1.7.3)\n",
            "Requirement already satisfied: tabulate in /usr/local/lib/python3.7/dist-packages (from gpflow==2.5.2) (0.8.10)\n",
            "Requirement already satisfied: typing-extensions in /usr/local/lib/python3.7/dist-packages (from gpflow==2.5.2) (4.1.1)\n",
            "Requirement already satisfied: setuptools>=41.0.0 in /usr/local/lib/python3.7/dist-packages (from gpflow==2.5.2) (57.4.0)\n",
            "Requirement already satisfied: numpy in /usr/local/lib/python3.7/dist-packages (from gpflow==2.5.2) (1.21.6)\n",
            "Collecting lark>=1.1.0\n",
            "  Downloading lark-1.1.2-py2.py3-none-any.whl (104 kB)\n",
            "\u001b[K     |████████████████████████████████| 104 kB 67.6 MB/s \n",
            "\u001b[?25hCollecting deprecated\n",
            "  Downloading Deprecated-1.2.13-py2.py3-none-any.whl (9.6 kB)\n",
            "Requirement already satisfied: six in /usr/local/lib/python3.7/dist-packages (from multipledispatch>=0.6->gpflow==2.5.2) (1.15.0)\n",
            "Requirement already satisfied: astunparse>=1.6.0 in /usr/local/lib/python3.7/dist-packages (from tensorflow>=2.4.0->gpflow==2.5.2) (1.6.3)\n",
            "Requirement already satisfied: h5py>=2.9.0 in /usr/local/lib/python3.7/dist-packages (from tensorflow>=2.4.0->gpflow==2.5.2) (3.1.0)\n",
            "Requirement already satisfied: protobuf<3.20,>=3.9.2 in /usr/local/lib/python3.7/dist-packages (from tensorflow>=2.4.0->gpflow==2.5.2) (3.17.3)\n",
            "Requirement already satisfied: tensorboard<2.9,>=2.8 in /usr/local/lib/python3.7/dist-packages (from tensorflow>=2.4.0->gpflow==2.5.2) (2.8.0)\n",
            "Requirement already satisfied: flatbuffers>=1.12 in /usr/local/lib/python3.7/dist-packages (from tensorflow>=2.4.0->gpflow==2.5.2) (2.0.7)\n",
            "Requirement already satisfied: absl-py>=0.4.0 in /usr/local/lib/python3.7/dist-packages (from tensorflow>=2.4.0->gpflow==2.5.2) (1.2.0)\n",
            "Requirement already satisfied: grpcio<2.0,>=1.24.3 in /usr/local/lib/python3.7/dist-packages (from tensorflow>=2.4.0->gpflow==2.5.2) (1.48.1)\n",
            "Requirement already satisfied: libclang>=9.0.1 in /usr/local/lib/python3.7/dist-packages (from tensorflow>=2.4.0->gpflow==2.5.2) (14.0.6)\n",
            "Requirement already satisfied: tensorflow-io-gcs-filesystem>=0.23.1 in /usr/local/lib/python3.7/dist-packages (from tensorflow>=2.4.0->gpflow==2.5.2) (0.26.0)\n",
            "Requirement already satisfied: termcolor>=1.1.0 in /usr/local/lib/python3.7/dist-packages (from tensorflow>=2.4.0->gpflow==2.5.2) (1.1.0)\n",
            "Requirement already satisfied: google-pasta>=0.1.1 in /usr/local/lib/python3.7/dist-packages (from tensorflow>=2.4.0->gpflow==2.5.2) (0.2.0)\n",
            "Requirement already satisfied: gast>=0.2.1 in /usr/local/lib/python3.7/dist-packages (from tensorflow>=2.4.0->gpflow==2.5.2) (0.5.3)\n",
            "Requirement already satisfied: opt-einsum>=2.3.2 in /usr/local/lib/python3.7/dist-packages (from tensorflow>=2.4.0->gpflow==2.5.2) (3.3.0)\n",
            "Requirement already satisfied: tensorflow-estimator<2.9,>=2.8 in /usr/local/lib/python3.7/dist-packages (from tensorflow>=2.4.0->gpflow==2.5.2) (2.8.0)\n",
            "Requirement already satisfied: keras-preprocessing>=1.1.1 in /usr/local/lib/python3.7/dist-packages (from tensorflow>=2.4.0->gpflow==2.5.2) (1.1.2)\n",
            "Requirement already satisfied: keras<2.9,>=2.8.0rc0 in /usr/local/lib/python3.7/dist-packages (from tensorflow>=2.4.0->gpflow==2.5.2) (2.8.0)\n",
            "Requirement already satisfied: wrapt>=1.11.0 in /usr/local/lib/python3.7/dist-packages (from tensorflow>=2.4.0->gpflow==2.5.2) (1.14.1)\n",
            "Requirement already satisfied: wheel<1.0,>=0.23.0 in /usr/local/lib/python3.7/dist-packages (from astunparse>=1.6.0->tensorflow>=2.4.0->gpflow==2.5.2) (0.37.1)\n",
            "Requirement already satisfied: cached-property in /usr/local/lib/python3.7/dist-packages (from h5py>=2.9.0->tensorflow>=2.4.0->gpflow==2.5.2) (1.5.2)\n",
            "Requirement already satisfied: markdown>=2.6.8 in /usr/local/lib/python3.7/dist-packages (from tensorboard<2.9,>=2.8->tensorflow>=2.4.0->gpflow==2.5.2) (3.4.1)\n",
            "Requirement already satisfied: werkzeug>=0.11.15 in /usr/local/lib/python3.7/dist-packages (from tensorboard<2.9,>=2.8->tensorflow>=2.4.0->gpflow==2.5.2) (1.0.1)\n",
            "Requirement already satisfied: requests<3,>=2.21.0 in /usr/local/lib/python3.7/dist-packages (from tensorboard<2.9,>=2.8->tensorflow>=2.4.0->gpflow==2.5.2) (2.23.0)\n",
            "Requirement already satisfied: google-auth<3,>=1.6.3 in /usr/local/lib/python3.7/dist-packages (from tensorboard<2.9,>=2.8->tensorflow>=2.4.0->gpflow==2.5.2) (1.35.0)\n",
            "Requirement already satisfied: tensorboard-plugin-wit>=1.6.0 in /usr/local/lib/python3.7/dist-packages (from tensorboard<2.9,>=2.8->tensorflow>=2.4.0->gpflow==2.5.2) (1.8.1)\n",
            "Requirement already satisfied: tensorboard-data-server<0.7.0,>=0.6.0 in /usr/local/lib/python3.7/dist-packages (from tensorboard<2.9,>=2.8->tensorflow>=2.4.0->gpflow==2.5.2) (0.6.1)\n",
            "Requirement already satisfied: google-auth-oauthlib<0.5,>=0.4.1 in /usr/local/lib/python3.7/dist-packages (from tensorboard<2.9,>=2.8->tensorflow>=2.4.0->gpflow==2.5.2) (0.4.6)\n",
            "Requirement already satisfied: rsa<5,>=3.1.4 in /usr/local/lib/python3.7/dist-packages (from google-auth<3,>=1.6.3->tensorboard<2.9,>=2.8->tensorflow>=2.4.0->gpflow==2.5.2) (4.9)\n",
            "Requirement already satisfied: pyasn1-modules>=0.2.1 in /usr/local/lib/python3.7/dist-packages (from google-auth<3,>=1.6.3->tensorboard<2.9,>=2.8->tensorflow>=2.4.0->gpflow==2.5.2) (0.2.8)\n",
            "Requirement already satisfied: cachetools<5.0,>=2.0.0 in /usr/local/lib/python3.7/dist-packages (from google-auth<3,>=1.6.3->tensorboard<2.9,>=2.8->tensorflow>=2.4.0->gpflow==2.5.2) (4.2.4)\n",
            "Requirement already satisfied: requests-oauthlib>=0.7.0 in /usr/local/lib/python3.7/dist-packages (from google-auth-oauthlib<0.5,>=0.4.1->tensorboard<2.9,>=2.8->tensorflow>=2.4.0->gpflow==2.5.2) (1.3.1)\n",
            "Requirement already satisfied: importlib-metadata>=4.4 in /usr/local/lib/python3.7/dist-packages (from markdown>=2.6.8->tensorboard<2.9,>=2.8->tensorflow>=2.4.0->gpflow==2.5.2) (4.12.0)\n",
            "Requirement already satisfied: zipp>=0.5 in /usr/local/lib/python3.7/dist-packages (from importlib-metadata>=4.4->markdown>=2.6.8->tensorboard<2.9,>=2.8->tensorflow>=2.4.0->gpflow==2.5.2) (3.8.1)\n",
            "Requirement already satisfied: pyasn1<0.5.0,>=0.4.6 in /usr/local/lib/python3.7/dist-packages (from pyasn1-modules>=0.2.1->google-auth<3,>=1.6.3->tensorboard<2.9,>=2.8->tensorflow>=2.4.0->gpflow==2.5.2) (0.4.8)\n",
            "Requirement already satisfied: certifi>=2017.4.17 in /usr/local/lib/python3.7/dist-packages (from requests<3,>=2.21.0->tensorboard<2.9,>=2.8->tensorflow>=2.4.0->gpflow==2.5.2) (2022.6.15)\n",
            "Requirement already satisfied: idna<3,>=2.5 in /usr/local/lib/python3.7/dist-packages (from requests<3,>=2.21.0->tensorboard<2.9,>=2.8->tensorflow>=2.4.0->gpflow==2.5.2) (2.10)\n",
            "Requirement already satisfied: urllib3!=1.25.0,!=1.25.1,<1.26,>=1.21.1 in /usr/local/lib/python3.7/dist-packages (from requests<3,>=2.21.0->tensorboard<2.9,>=2.8->tensorflow>=2.4.0->gpflow==2.5.2) (1.24.3)\n",
            "Requirement already satisfied: chardet<4,>=3.0.2 in /usr/local/lib/python3.7/dist-packages (from requests<3,>=2.21.0->tensorboard<2.9,>=2.8->tensorflow>=2.4.0->gpflow==2.5.2) (3.0.4)\n",
            "Requirement already satisfied: oauthlib>=3.0.0 in /usr/local/lib/python3.7/dist-packages (from requests-oauthlib>=0.7.0->google-auth-oauthlib<0.5,>=0.4.1->tensorboard<2.9,>=2.8->tensorflow>=2.4.0->gpflow==2.5.2) (3.2.0)\n",
            "Requirement already satisfied: cloudpickle>=1.3 in /usr/local/lib/python3.7/dist-packages (from tensorflow-probability>=0.12.0->gpflow==2.5.2) (1.5.0)\n",
            "Requirement already satisfied: dm-tree in /usr/local/lib/python3.7/dist-packages (from tensorflow-probability>=0.12.0->gpflow==2.5.2) (0.1.7)\n",
            "Requirement already satisfied: decorator in /usr/local/lib/python3.7/dist-packages (from tensorflow-probability>=0.12.0->gpflow==2.5.2) (4.4.2)\n",
            "Requirement already satisfied: pyparsing!=3.0.5,>=2.0.2 in /usr/local/lib/python3.7/dist-packages (from packaging->gpflow==2.5.2) (3.0.9)\n",
            "Installing collected packages: lark, deprecated, gpflow\n",
            "Successfully installed deprecated-1.2.13 gpflow-2.5.2 lark-1.1.2\n"
          ]
        }
      ],
      "source": [
        "#Librerías a utilizar\n",
        "import numpy as np\n",
        "#Versión utilizada agosto 2022 2.5.2\n",
        "!pip install gpflow==2.5.2\n",
        "import gpflow\n",
        "import tensorflow as tf\n",
        "import time\n",
        "from gpflow.utilities import ops, print_summary  \n",
        "import pickle\n",
        "\n",
        "\n",
        "\n",
        "import matplotlib.pyplot as plt\n",
        "plt.style.use('ggplot')\n",
        "%matplotlib inline\n",
        "import numpy as np"
      ]
    },
    {
      "cell_type": "code",
      "execution_count": null,
      "metadata": {
        "colab": {
          "base_uri": "https://localhost:8080/"
        },
        "id": "qihupfNyy8vw",
        "outputId": "1a37b569-0384-4e3b-f2dd-38e00d942fa4"
      },
      "outputs": [
        {
          "output_type": "stream",
          "name": "stdout",
          "text": [
            "Mounted at /content/drive\n"
          ]
        }
      ],
      "source": [
        "#Conectar con Google\n",
        "from google.colab import drive\n",
        "drive.mount('/content/drive')"
      ]
    },
    {
      "cell_type": "code",
      "execution_count": null,
      "metadata": {
        "id": "avfUVEaSPnuo"
      },
      "outputs": [],
      "source": [
        "##Importar tablas de errores\n",
        "with open('/content/drive/MyDrive/Tesis/Cap4/Datos-ECM/ECM4', 'rb') as ECM:\n",
        "    ECM = pickle.load(ECM)\n",
        "\n",
        "with open('/content/drive/MyDrive/Tesis/Cap4/Datos-ECM/LOG4', 'rb') as log:\n",
        "    log = pickle.load(log)"
      ]
    },
    {
      "cell_type": "code",
      "execution_count": null,
      "metadata": {
        "colab": {
          "base_uri": "https://localhost:8080/"
        },
        "id": "L1ahmGu5SpOu",
        "outputId": "45188cac-ab32-461e-8153-cf57f6de3eae"
      },
      "outputs": [
        {
          "output_type": "stream",
          "name": "stdout",
          "text": [
            "[3.40265648e+13 1.99330253e+06 1.07534118e+05 1.68882732e+04\n",
            " 1.47708734e+04 1.70929109e+04]\n",
            "[1.68384363 1.57156277 0.62035686 0.26729799 0.25009462 0.24886252]\n"
          ]
        }
      ],
      "source": [
        "#Error cuadrático medio y -log por dimensión por dimensión\n",
        "print(np.mean(-log, axis=0))\n",
        "print(np.mean(ECM, axis=0))\n",
        "#print(np.mean(log2, axis=0))\n",
        "#print(np.mean(ECM2, axis=0))"
      ]
    },
    {
      "cell_type": "code",
      "execution_count": null,
      "metadata": {
        "colab": {
          "base_uri": "https://localhost:8080/",
          "height": 282
        },
        "id": "xEwYgCJ4uDvL",
        "outputId": "d0d586af-39f7-4e94-f700-1f4cf27027ea"
      },
      "outputs": [
        {
          "output_type": "display_data",
          "data": {
            "text/plain": [
              "<Figure size 432x288 with 1 Axes>"
            ],
            "image/png": "[encoded data removed]"
          },
          "metadata": {
            "needs_background": "light"
          }
        }
      ],
      "source": [
        "#Gráficas boxplot del error cuadrático medio\n",
        "#Figuras 4.4 a 4.7 a\n",
        "green_diamond = dict(markerfacecolor='r', marker='D')\n",
        "fig1, ax1 = plt.subplots()\n",
        "#ax1.set_title('Datos neuronales')\n",
        "ax1.boxplot(ECM, flierprops=green_diamond, whis=1)\n",
        "#plt.title('Error cuadrático medio')\n",
        "ax1.set_xlim([1.5, 6.5])\n",
        "plt.ylabel(\"Error\")\n",
        "plt.xlabel(\"Dimensión de la variable latente\")\n",
        "plt.show()"
      ]
    },
    {
      "cell_type": "code",
      "execution_count": null,
      "metadata": {
        "colab": {
          "base_uri": "https://localhost:8080/",
          "height": 286
        },
        "id": "AFsRMfreyGYA",
        "outputId": "2056d67d-0d1e-40af-9f32-8c559984ca49"
      },
      "outputs": [
        {
          "output_type": "display_data",
          "data": {
            "text/plain": [
              "<Figure size 432x288 with 1 Axes>"
            ],
            "image/png": "[encoded data removed]"
          },
          "metadata": {
            "needs_background": "light"
          }
        }
      ],
      "source": [
        "#Gráficas boxplot de la log verosimilitud\n",
        "#Figuras 4.4 a 4.7 b\n",
        "green_diamond = dict(markerfacecolor='r', marker='D')\n",
        "fig1, ax1 = plt.subplots()\n",
        "#ax1.set_title('Datos de comportamiento')\n",
        "ax1.boxplot(-log[:,], flierprops=green_diamond, whis=100)\n",
        "ax1.set_xlim([3.5, 6.5])\n",
        "ax1.set_ylim([0, 40000])\n",
        "plt.ylabel(\"-Log-verosimilitud\")\n",
        "plt.xlabel(\"Dimensión de la variable latente\")\n",
        "plt.show()"
      ]
    }
  ],
  "metadata": {
    "accelerator": "GPU",
    "colab": {
      "collapsed_sections": [],
      "provenance": [],
      "include_colab_link": true
    },
    "gpuClass": "standard",
    "kernelspec": {
      "display_name": "Python 3",
      "language": "python",
      "name": "python3"
    },
    "language_info": {
      "codemirror_mode": {
        "name": "ipython",
        "version": 3
      },
      "file_extension": ".py",
      "mimetype": "text/x-python",
      "name": "python",
      "nbconvert_exporter": "python",
      "pygments_lexer": "ipython3",
      "version": "3.6.8"
    }
  },
  "nbformat": 4,
  "nbformat_minor": 0
}