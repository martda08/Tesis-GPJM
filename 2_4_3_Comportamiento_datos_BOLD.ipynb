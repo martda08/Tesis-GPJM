{
  "nbformat": 4,
  "nbformat_minor": 0,
  "metadata": {
    "colab": {
      "provenance": [],
      "collapsed_sections": [],
      "authorship_tag": "ABX9TyNLSb+wWt7Yi6avvCDOpDvO",
      "include_colab_link": true
    },
    "kernelspec": {
      "name": "python3",
      "display_name": "Python 3"
    },
    "language_info": {
      "name": "python"
    }
  },
  "cells": [
    {
      "cell_type": "markdown",
      "metadata": {
        "id": "view-in-github",
        "colab_type": "text"
      },
      "source": [
        "<a href=\"https://colab.research.google.com/github/martda08/Tesis-GPJM/blob/main/2_4_3_Comportamiento_datos_BOLD.ipynb\" target=\"_parent\"><img src=\"https://colab.research.google.com/assets/colab-badge.svg\" alt=\"Open In Colab\"/></a>"
      ]
    },
    {
      "cell_type": "markdown",
      "source": [
        "#Subsección 2.4.2-Comportamiento hemodinámico de los datos BOLD. \n",
        "\n",
        "*Fecha de última modificación*: 10-oct-22.\n",
        "\n",
        "*Tesis*: Modelación de la relación entre el cerebro y el comportamiento mediante campos Gaussianos.\n",
        "\n",
        "*Autor*: Giwon Bahg.\n",
        "\n",
        "*Modificado por*: Daniela Martínez Aguirre\n",
        "\n",
        "*Descripción*: Gráficas de la Subsección comportamiento hemodinámico de los datos BOLD.\n",
        "\n",
        "*Figuras*: 3.8 a 3.12"
      ],
      "metadata": {
        "id": "mEJqjkalSuLD"
      }
    },
    {
      "cell_type": "code",
      "source": [],
      "metadata": {
        "id": "5ZRkGq5JS6JD"
      },
      "execution_count": null,
      "outputs": []
    }
  ]
}